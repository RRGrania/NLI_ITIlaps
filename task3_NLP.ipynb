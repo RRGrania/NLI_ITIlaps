{
  "nbformat": 4,
  "nbformat_minor": 0,
  "metadata": {
    "colab": {
      "provenance": []
    },
    "kernelspec": {
      "name": "python3",
      "display_name": "Python 3"
    },
    "language_info": {
      "name": "python"
    }
  },
  "cells": [
    {
      "cell_type": "code",
      "execution_count": 1,
      "metadata": {
        "colab": {
          "base_uri": "https://localhost:8080/"
        },
        "id": "XIpxCBTVYmcO",
        "outputId": "95ab2441-96df-43cd-c2af-d72fcf493d7f"
      },
      "outputs": [
        {
          "output_type": "execute_result",
          "data": {
            "text/plain": [
              "<torch._C.Generator at 0x7bc0551ddd50>"
            ]
          },
          "metadata": {},
          "execution_count": 1
        }
      ],
      "source": [
        "\n",
        "import torch\n",
        "import numpy as np\n",
        "import seaborn as sns\n",
        "from torch import nn\n",
        "\n",
        "torch.manual_seed(42)\n",
        "\n"
      ]
    },
    {
      "cell_type": "code",
      "source": [
        "X = np.linspace(0,20,num=200)\n",
        "y = X + np.sin(X)*2 + np.random.normal(size=X.shape)"
      ],
      "metadata": {
        "id": "jr1wVZxDYpce"
      },
      "execution_count": 2,
      "outputs": []
    },
    {
      "cell_type": "code",
      "source": [
        "\n",
        "sns.scatterplot(x=X,y=y,color='Blue', label='Data')"
      ],
      "metadata": {
        "colab": {
          "base_uri": "https://localhost:8080/",
          "height": 447
        },
        "id": "_yCyzPmDYp8a",
        "outputId": "f0f63ffb-23e0-43db-b891-cf6fdd599b2a"
      },
      "execution_count": 3,
      "outputs": [
        {
          "output_type": "execute_result",
          "data": {
            "text/plain": [
              "<Axes: >"
            ]
          },
          "metadata": {},
          "execution_count": 3
        },
        {
          "output_type": "display_data",
          "data": {
            "text/plain": [
              "<Figure size 640x480 with 1 Axes>"
            ],
            "image/png": "[encoded data removed]"
          },
          "metadata": {}
        }
      ]
    },
    {
      "cell_type": "code",
      "source": [
        "from torch.utils.data import Dataset , DataLoader\n",
        "\n",
        "class Simple1DRegressionDataset(Dataset):\n",
        "    def __init__(self,X,y):\n",
        "        super(Simple1DRegressionDataset,self).__init__()\n",
        "        self.X = X.reshape(-1,1)\n",
        "        self.y = y.reshape(-1,1)\n",
        "\n",
        "    def __getitem__(self,index):\n",
        "        return torch.tensor(self.X[index,:],dtype=torch.float32) , torch.tensor(self.y[index,:],dtype=torch.float32)\n",
        "\n",
        "    def __len__(self):\n",
        "        return self.X.shape[0]"
      ],
      "metadata": {
        "id": "f2JDSDYeYtSw"
      },
      "execution_count": 4,
      "outputs": []
    },
    {
      "cell_type": "code",
      "source": [
        "df = Simple1DRegressionDataset(X,y)"
      ],
      "metadata": {
        "id": "nRY5LxU6YxLU"
      },
      "execution_count": 5,
      "outputs": []
    },
    {
      "cell_type": "code",
      "source": [
        "df[0]"
      ],
      "metadata": {
        "colab": {
          "base_uri": "https://localhost:8080/"
        },
        "id": "v2pIfpfoYyvr",
        "outputId": "59f9a348-1b67-4759-d228-0116ce06599c"
      },
      "execution_count": 6,
      "outputs": [
        {
          "output_type": "execute_result",
          "data": {
            "text/plain": [
              "(tensor([0.]), tensor([1.5913]))"
            ]
          },
          "metadata": {},
          "execution_count": 6
        }
      ]
    },
    {
      "cell_type": "code",
      "source": [
        "training_loader = DataLoader(Simple1DRegressionDataset(X,y),shuffle=True)"
      ],
      "metadata": {
        "id": "_0Wc69AsY0eq"
      },
      "execution_count": 7,
      "outputs": []
    },
    {
      "cell_type": "code",
      "source": [
        "data_point = next(iter(training_loader))\n",
        "data_point"
      ],
      "metadata": {
        "colab": {
          "base_uri": "https://localhost:8080/"
        },
        "id": "U0kDyZ05Y2lT",
        "outputId": "bbf5ca19-026d-4b8b-f5f2-fa618661afe9"
      },
      "execution_count": 8,
      "outputs": [
        {
          "output_type": "execute_result",
          "data": {
            "text/plain": [
              "[tensor([[8.8442]]), tensor([[9.8756]])]"
            ]
          },
          "metadata": {},
          "execution_count": 8
        }
      ]
    },
    {
      "cell_type": "code",
      "source": [
        "in_features = 1\n",
        "out_features = 1\n",
        "\n",
        "# model_2 = nn.Linear(in_features,out_features)\n",
        "\n",
        "model_2 = nn.Sequential(\n",
        "    nn.Linear(1, 256),\n",
        "    nn.ReLU(),\n",
        "    nn.Linear(256, 256),\n",
        "    nn.ReLU(),\n",
        "    nn.Linear(256, 256),\n",
        "    nn.ReLU(),\n",
        "    nn.Linear(256, 256),\n",
        "    nn.ReLU(),\n",
        "    nn.Linear(256, 64),\n",
        "    nn.ReLU(),\n",
        "    nn.Linear(64, 1)\n",
        "    )\n"
      ],
      "metadata": {
        "id": "0hW06muyY4JI"
      },
      "execution_count": 9,
      "outputs": []
    },
    {
      "cell_type": "code",
      "source": [
        "\n",
        "loss_fn = nn.MSELoss()"
      ],
      "metadata": {
        "id": "h1R8ZOTkY6Wu"
      },
      "execution_count": 10,
      "outputs": []
    },
    {
      "cell_type": "code",
      "source": [
        "\n",
        "optimizer = torch.optim.Adam(params=model_2.parameters(),lr=0.07)"
      ],
      "metadata": {
        "id": "IibeDEgSY9Bf"
      },
      "execution_count": 11,
      "outputs": []
    },
    {
      "cell_type": "code",
      "source": [
        "from tqdm.autonotebook import tqdm\n",
        "\n",
        "def train_simple_network(model,\n",
        "                        loss_fn,\n",
        "                        training_loader,\n",
        "                        epochs=5,\n",
        "                        device='cpu',\n",
        "                        optimizer=optimizer):\n",
        "\n",
        "    optimizer = torch.optim.SGD(params=model.parameters(),lr=0.001)\n",
        "\n",
        "    model.to(device)\n",
        "\n",
        "    for epoch in tqdm(range(epochs), desc=\"Epochs\"):\n",
        "\n",
        "        model = model.train()\n",
        "\n",
        "        running_loss = 0\n",
        "\n",
        "        for inputs , labels in tqdm(training_loader,desc='Batches'):\n",
        "\n",
        "            inputs = inputs.to(device)\n",
        "            labels = labels.to(device)\n",
        "\n",
        "            optimizer.zero_grad()\n",
        "\n",
        "            y_pred = model(inputs)\n",
        "\n",
        "            loss = loss_fn(y_pred, labels)\n",
        "\n",
        "            loss.backward()\n",
        "\n",
        "            optimizer.step()\n",
        "\n",
        "            running_loss += loss.item()\n",
        "            print(running_loss)\n",
        "\n",
        "\n",
        ""
      ],
      "metadata": {
        "colab": {
          "base_uri": "https://localhost:8080/"
        },
        "id": "2q2-qpc-Y_v6",
        "outputId": "85d436d9-4f0f-4102-de7a-1f937803eff5"
      },
      "execution_count": 12,
      "outputs": [
        {
          "output_type": "stream",
          "name": "stderr",
          "text": [
            "<ipython-input-12-fb2bbb37a4db>:1: TqdmExperimentalWarning: Using `tqdm.autonotebook.tqdm` in notebook mode. Use `tqdm.tqdm` instead to force console mode (e.g. in jupyter console)\n",
            "  from tqdm.autonotebook import tqdm\n"
          ]
        }
      ]
    },
    {
      "cell_type": "code",
      "source": [
        "device = 'cuda' if torch.cuda.is_available() else 'cpu'\n",
        "device"
      ],
      "metadata": {
        "colab": {
          "base_uri": "https://localhost:8080/",
          "height": 35
        },
        "id": "2W80Br1YZC-6",
        "outputId": "96e2ee99-6967-404e-da6b-7d4a51c52840"
      },
      "execution_count": 13,
      "outputs": [
        {
          "output_type": "execute_result",
          "data": {
            "text/plain": [
              "'cpu'"
            ],
            "application/vnd.google.colaboratory.intrinsic+json": {
              "type": "string"
            }
          },
          "metadata": {},
          "execution_count": 13
        }
      ]
    },
    {
      "cell_type": "code",
      "source": [
        "model_2.to('cpu')\n",
        "\n",
        "model_2.eval()\n",
        "\n",
        "with torch.inference_mode():\n",
        "    y_pred_m2 = model_2(torch.tensor(X,dtype=torch.float32).reshape(-1,1)).cpu().numpy()\n",
        "\n",
        "\n",
        "sns.scatterplot(x=X,y=y , color='blue',label='Data')\n",
        "sns.lineplot(x=X,y=y_pred_m2.ravel(),color='red',label='Linear model')\n"
      ],
      "metadata": {
        "colab": {
          "base_uri": "https://localhost:8080/",
          "height": 447
        },
        "id": "IRJSH5tOZG-A",
        "outputId": "af56c0b4-581b-43c4-ea49-cfff3f613c91"
      },
      "execution_count": 15,
      "outputs": [
        {
          "output_type": "execute_result",
          "data": {
            "text/plain": [
              "<Axes: >"
            ]
          },
          "metadata": {},
          "execution_count": 15
        },
        {
          "output_type": "display_data",
          "data": {
            "text/plain": [
              "<Figure size 640x480 with 1 Axes>"
            ],
            "image/png": "[encoded data removed]"
          },
          "metadata": {}
        }
      ]
    },
    {
      "cell_type": "code",
      "source": [],
      "metadata": {
        "id": "MKBGqnuMZQDd"
      },
      "execution_count": null,
      "outputs": []
    }
  ]
}